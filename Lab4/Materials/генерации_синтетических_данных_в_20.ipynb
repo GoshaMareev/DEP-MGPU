{
  "nbformat": 4,
  "nbformat_minor": 0,
  "metadata": {
    "colab": {
      "provenance": []
    },
    "kernelspec": {
      "name": "python3",
      "display_name": "Python 3"
    },
    "language_info": {
      "name": "python"
    }
  },
  "cells": [
    {
      "cell_type": "code",
      "source": [
        "!pip install Faker"
      ],
      "metadata": {
        "id": "QfsF-0n0OF4w"
      },
      "execution_count": null,
      "outputs": []
    },
    {
      "cell_type": "code",
      "source": [
        "import pandas as pd\n",
        "import numpy as np\n",
        "from datetime import datetime, timedelta\n",
        "import random\n",
        "from faker import Faker\n",
        "import os\n",
        "from google.colab import files"
      ],
      "metadata": {
        "id": "az_CYyzjN9A7"
      },
      "execution_count": 4,
      "outputs": []
    },
    {
      "cell_type": "code",
      "execution_count": 5,
      "metadata": {
        "colab": {
          "base_uri": "https://localhost:8080/",
          "height": 972
        },
        "id": "soXlXx2lNp4h",
        "outputId": "0241c33b-64b0-4a92-d3c9-69a9cc045a55"
      },
      "outputs": [
        {
          "output_type": "display_data",
          "data": {
            "text/plain": [
              "<IPython.core.display.Javascript object>"
            ],
            "application/javascript": [
              "\n",
              "    async function download(id, filename, size) {\n",
              "      if (!google.colab.kernel.accessAllowed) {\n",
              "        return;\n",
              "      }\n",
              "      const div = document.createElement('div');\n",
              "      const label = document.createElement('label');\n",
              "      label.textContent = `Downloading \"${filename}\": `;\n",
              "      div.appendChild(label);\n",
              "      const progress = document.createElement('progress');\n",
              "      progress.max = size;\n",
              "      div.appendChild(progress);\n",
              "      document.body.appendChild(div);\n",
              "\n",
              "      const buffers = [];\n",
              "      let downloaded = 0;\n",
              "\n",
              "      const channel = await google.colab.kernel.comms.open(id);\n",
              "      // Send a message to notify the kernel that we're ready.\n",
              "      channel.send({})\n",
              "\n",
              "      for await (const message of channel.messages) {\n",
              "        // Send a message to notify the kernel that we're ready.\n",
              "        channel.send({})\n",
              "        if (message.buffers) {\n",
              "          for (const buffer of message.buffers) {\n",
              "            buffers.push(buffer);\n",
              "            downloaded += buffer.byteLength;\n",
              "            progress.value = downloaded;\n",
              "          }\n",
              "        }\n",
              "      }\n",
              "      const blob = new Blob(buffers, {type: 'application/binary'});\n",
              "      const a = document.createElement('a');\n",
              "      a.href = window.URL.createObjectURL(blob);\n",
              "      a.download = filename;\n",
              "      div.appendChild(a);\n",
              "      a.click();\n",
              "      div.remove();\n",
              "    }\n",
              "  "
            ]
          },
          "metadata": {}
        },
        {
          "output_type": "display_data",
          "data": {
            "text/plain": [
              "<IPython.core.display.Javascript object>"
            ],
            "application/javascript": [
              "download(\"download_e2cdf79c-327a-486a-97f2-6f084e28eb8c\", \"quality_control_data.csv\", 139557)"
            ]
          },
          "metadata": {}
        },
        {
          "output_type": "display_data",
          "data": {
            "text/plain": [
              "<IPython.core.display.Javascript object>"
            ],
            "application/javascript": [
              "\n",
              "    async function download(id, filename, size) {\n",
              "      if (!google.colab.kernel.accessAllowed) {\n",
              "        return;\n",
              "      }\n",
              "      const div = document.createElement('div');\n",
              "      const label = document.createElement('label');\n",
              "      label.textContent = `Downloading \"${filename}\": `;\n",
              "      div.appendChild(label);\n",
              "      const progress = document.createElement('progress');\n",
              "      progress.max = size;\n",
              "      div.appendChild(progress);\n",
              "      document.body.appendChild(div);\n",
              "\n",
              "      const buffers = [];\n",
              "      let downloaded = 0;\n",
              "\n",
              "      const channel = await google.colab.kernel.comms.open(id);\n",
              "      // Send a message to notify the kernel that we're ready.\n",
              "      channel.send({})\n",
              "\n",
              "      for await (const message of channel.messages) {\n",
              "        // Send a message to notify the kernel that we're ready.\n",
              "        channel.send({})\n",
              "        if (message.buffers) {\n",
              "          for (const buffer of message.buffers) {\n",
              "            buffers.push(buffer);\n",
              "            downloaded += buffer.byteLength;\n",
              "            progress.value = downloaded;\n",
              "          }\n",
              "        }\n",
              "      }\n",
              "      const blob = new Blob(buffers, {type: 'application/binary'});\n",
              "      const a = document.createElement('a');\n",
              "      a.href = window.URL.createObjectURL(blob);\n",
              "      a.download = filename;\n",
              "      div.appendChild(a);\n",
              "      a.click();\n",
              "      div.remove();\n",
              "    }\n",
              "  "
            ]
          },
          "metadata": {}
        },
        {
          "output_type": "display_data",
          "data": {
            "text/plain": [
              "<IPython.core.display.Javascript object>"
            ],
            "application/javascript": [
              "download(\"download_38dd945b-b4d8-4207-9f06-6797b117927b\", \"quality_standards.xlsx\", 5507)"
            ]
          },
          "metadata": {}
        },
        {
          "output_type": "display_data",
          "data": {
            "text/plain": [
              "<IPython.core.display.Javascript object>"
            ],
            "application/javascript": [
              "\n",
              "    async function download(id, filename, size) {\n",
              "      if (!google.colab.kernel.accessAllowed) {\n",
              "        return;\n",
              "      }\n",
              "      const div = document.createElement('div');\n",
              "      const label = document.createElement('label');\n",
              "      label.textContent = `Downloading \"${filename}\": `;\n",
              "      div.appendChild(label);\n",
              "      const progress = document.createElement('progress');\n",
              "      progress.max = size;\n",
              "      div.appendChild(progress);\n",
              "      document.body.appendChild(div);\n",
              "\n",
              "      const buffers = [];\n",
              "      let downloaded = 0;\n",
              "\n",
              "      const channel = await google.colab.kernel.comms.open(id);\n",
              "      // Send a message to notify the kernel that we're ready.\n",
              "      channel.send({})\n",
              "\n",
              "      for await (const message of channel.messages) {\n",
              "        // Send a message to notify the kernel that we're ready.\n",
              "        channel.send({})\n",
              "        if (message.buffers) {\n",
              "          for (const buffer of message.buffers) {\n",
              "            buffers.push(buffer);\n",
              "            downloaded += buffer.byteLength;\n",
              "            progress.value = downloaded;\n",
              "          }\n",
              "        }\n",
              "      }\n",
              "      const blob = new Blob(buffers, {type: 'application/binary'});\n",
              "      const a = document.createElement('a');\n",
              "      a.href = window.URL.createObjectURL(blob);\n",
              "      a.download = filename;\n",
              "      div.appendChild(a);\n",
              "      a.click();\n",
              "      div.remove();\n",
              "    }\n",
              "  "
            ]
          },
          "metadata": {}
        },
        {
          "output_type": "display_data",
          "data": {
            "text/plain": [
              "<IPython.core.display.Javascript object>"
            ],
            "application/javascript": [
              "download(\"download_f8f1ecf8-9f49-4dad-95f2-9e61c78ac369\", \"customer_complaints.csv\", 47666)"
            ]
          },
          "metadata": {}
        },
        {
          "output_type": "stream",
          "name": "stdout",
          "text": [
            "Созданные файлы:\n",
            "1. quality_control_data.csv - 1000 записей\n",
            "2. quality_standards.xlsx - 6 записей\n",
            "3. customer_complaints.csv - 200 записей\n",
            "Пример данных из каждого файла:\n",
            "Контроль качества (первые 3 записи):\n",
            "  inspection_id        date           product batch_number  \\\n",
            "0       QC00001  2023-01-01    Наушники Alpha        B8464   \n",
            "1       QC00002  2023-01-01   Смарт-часы Beta        B9598   \n",
            "2       QC00003  2023-01-01  Смартфон Model X        B1603   \n",
            "\n",
            "                       inspector  quality_score  passed_inspection  \\\n",
            "0    Мариан Валерьянович Кабанов             95               True   \n",
            "1  Святополк Харлампович Беляков             87               True   \n",
            "2      Кира Афанасьевна Веселова             78               True   \n",
            "\n",
            "               notes  \n",
            "0  Проверка пройдена  \n",
            "1  Проверка пройдена  \n",
            "2  Проверка пройдена  \n",
            "Нормативы качества (первые 3 записи):\n",
            "            product  min_quality_score  optimal_quality_score  \\\n",
            "0  Смартфон Model X                 79                     93   \n",
            "1     Ноутбук Pro Y                 77                     92   \n",
            "2         Планшет Z                 76                     91   \n",
            "\n",
            "   max_defect_rate  inspection_frequency_hours  sample_size_percent  \\\n",
            "0            0.050                          12                   15   \n",
            "1            0.014                          12                   13   \n",
            "2            0.016                           8                    6   \n",
            "\n",
            "   shelf_life_days  storage_temp_min  storage_temp_max  humidity_percent  \n",
            "0              680                13                29                54  \n",
            "1              451                14                26                57  \n",
            "2              501                14                26                56  \n",
            "\\Рекламации (первые 3 записи):\n",
            "  complaint_id date_received           product customer_id purchase_date  \\\n",
            "0       C00001    2023-01-01   Смарт-часы Beta    CUS56202    2022-11-16   \n",
            "1       C00002    2023-01-02         Планшет Z    CUS65551    2022-12-21   \n",
            "2       C00003    2023-01-03  Смартфон Model X    CUS62868    2023-01-01   \n",
            "\n",
            "                defect_type severity  \\\n",
            "0  Механическое повреждение   Низкая   \n",
            "1    Неисправность динамика   Низкая   \n",
            "2       Проблема с батареей  Средняя   \n",
            "\n",
            "                                         description       status  \\\n",
            "0  Обнаружен механическое повреждение после 22 дн...  В обработке   \n",
            "1  Обнаружен неисправность динамика после 20 дней...       Решена   \n",
            "2  Обнаружен проблема с батареей после 26 дней ис...        Новая   \n",
            "\n",
            "   compensation_amount  \n",
            "0                 5000  \n",
            "1                 2000  \n",
            "2                 1000  \n"
          ]
        }
      ],
      "source": [
        "\n",
        "# Установка seed для воспроизводимости\n",
        "np.random.seed(42)\n",
        "fake = Faker('ru_RU')\n",
        "\n",
        "# Создание базовых данных о продукции\n",
        "products = [\n",
        "    'Смартфон Model X', 'Ноутбук Pro Y', 'Планшет Z',\n",
        "    'Наушники Alpha', 'Смарт-часы Beta', 'Камера Ultra'\n",
        "]\n",
        "\n",
        "defect_types = [\n",
        "    'Дефект экрана', 'Проблема с батареей', 'Неисправность динамика',\n",
        "    'Проблема с зарядкой', 'Программный сбой', 'Механическое повреждение'\n",
        "]\n",
        "\n",
        "# Генерация данных для PostgreSQL базы контроля качества\n",
        "def generate_quality_control_data(start_date, num_records):\n",
        "    data = []\n",
        "    current_date = start_date\n",
        "\n",
        "    for _ in range(num_records):\n",
        "        product = random.choice(products)\n",
        "        passed = random.random() > 0.15  # 85% проходят контроль качества\n",
        "\n",
        "        record = {\n",
        "            'inspection_id': f'QC{_+1:05d}',\n",
        "            'date': current_date.strftime('%Y-%m-%d'),\n",
        "            'product': product,\n",
        "            'batch_number': f'B{random.randint(1000, 9999)}',\n",
        "            'inspector': fake.name(),\n",
        "            'quality_score': random.randint(75, 100) if passed else random.randint(50, 74),\n",
        "            'passed_inspection': passed,\n",
        "            'notes': 'Проверка пройдена' if passed else random.choice(defect_types)\n",
        "        }\n",
        "        data.append(record)\n",
        "        current_date += timedelta(hours=random.randint(1, 8))\n",
        "\n",
        "    return pd.DataFrame(data)\n",
        "\n",
        "# Генерация данных о нормативах для Excel\n",
        "def generate_quality_standards():\n",
        "    data = []\n",
        "    for product in products:\n",
        "        record = {\n",
        "            'product': product,\n",
        "            'min_quality_score': random.randint(75, 85),\n",
        "            'optimal_quality_score': random.randint(90, 98),\n",
        "            'max_defect_rate': round(random.uniform(0.01, 0.05), 3),\n",
        "            'inspection_frequency_hours': random.choice([4, 8, 12]),\n",
        "            'sample_size_percent': random.randint(5, 15),\n",
        "            'shelf_life_days': random.randint(365, 730),\n",
        "            'storage_temp_min': random.randint(10, 15),\n",
        "            'storage_temp_max': random.randint(25, 30),\n",
        "            'humidity_percent': random.randint(40, 60)\n",
        "        }\n",
        "        data.append(record)\n",
        "    return pd.DataFrame(data)\n",
        "\n",
        "# Генерация данных о рекламациях для CSV\n",
        "def generate_complaints_data(start_date, num_records):\n",
        "    data = []\n",
        "    current_date = start_date\n",
        "\n",
        "    for _ in range(num_records):\n",
        "        product = random.choice(products)\n",
        "        defect = random.choice(defect_types)\n",
        "\n",
        "        record = {\n",
        "            'complaint_id': f'C{_+1:05d}',\n",
        "            'date_received': current_date.strftime('%Y-%m-%d'),\n",
        "            'product': product,\n",
        "            'customer_id': f'CUS{random.randint(10000, 99999)}',\n",
        "            'purchase_date': (current_date - timedelta(days=random.randint(1, 90))).strftime('%Y-%m-%d'),\n",
        "            'defect_type': defect,\n",
        "            'severity': random.choice(['Низкая', 'Средняя', 'Высокая']),\n",
        "            'description': f'Обнаружен {defect.lower()} после {random.randint(1, 30)} дней использования',\n",
        "            'status': random.choice(['Новая', 'В обработке', 'Решена', 'Отклонена']),\n",
        "            'compensation_amount': random.choice([0, 1000, 2000, 5000, 10000])\n",
        "        }\n",
        "        data.append(record)\n",
        "        current_date += timedelta(days=random.randint(0, 2))\n",
        "\n",
        "    return pd.DataFrame(data)\n",
        "\n",
        "# Генерация данных\n",
        "start_date = datetime(2023, 1, 1)\n",
        "quality_control_df = generate_quality_control_data(start_date, 1000)\n",
        "standards_df = generate_quality_standards()\n",
        "complaints_df = generate_complaints_data(start_date, 200)\n",
        "\n",
        "# Сохранение данных в файлы\n",
        "quality_control_df.to_csv('quality_control_data.csv', index=False, encoding='utf-8')\n",
        "standards_df.to_excel('quality_standards.xlsx', index=False)\n",
        "complaints_df.to_csv('customer_complaints.csv', index=False, encoding='utf-8')\n",
        "\n",
        "\n",
        "\n",
        "# Вывод информации о созданных файлах\n",
        "print(\"Созданные файлы:\")\n",
        "print(f\"1. quality_control_data.csv - {len(quality_control_df)} записей\")\n",
        "print(f\"2. quality_standards.xlsx - {len(standards_df)} записей\")\n",
        "print(f\"3. customer_complaints.csv - {len(complaints_df)} записей\")\n",
        "\n",
        "# Вывод примера данных\n",
        "print(\"Пример данных из каждого файла:\")\n",
        "print(\"Контроль качества (первые 3 записи):\")\n",
        "print(quality_control_df.head(3))\n",
        "print(\"Нормативы качества (первые 3 записи):\")\n",
        "print(standards_df.head(3))\n",
        "print(\"\\Рекламации (первые 3 записи):\")\n",
        "print(complaints_df.head(3))\n"
      ]
    },
    {
      "cell_type": "code",
      "source": [
        "# Скачивание файлов\n",
        "files.download('quality_control_data.csv')\n"
      ],
      "metadata": {
        "colab": {
          "base_uri": "https://localhost:8080/",
          "height": 17
        },
        "id": "VshkBZCDOPUm",
        "outputId": "34ae5df5-5137-46bb-db62-b57adc1faba4"
      },
      "execution_count": 6,
      "outputs": [
        {
          "output_type": "display_data",
          "data": {
            "text/plain": [
              "<IPython.core.display.Javascript object>"
            ],
            "application/javascript": [
              "\n",
              "    async function download(id, filename, size) {\n",
              "      if (!google.colab.kernel.accessAllowed) {\n",
              "        return;\n",
              "      }\n",
              "      const div = document.createElement('div');\n",
              "      const label = document.createElement('label');\n",
              "      label.textContent = `Downloading \"${filename}\": `;\n",
              "      div.appendChild(label);\n",
              "      const progress = document.createElement('progress');\n",
              "      progress.max = size;\n",
              "      div.appendChild(progress);\n",
              "      document.body.appendChild(div);\n",
              "\n",
              "      const buffers = [];\n",
              "      let downloaded = 0;\n",
              "\n",
              "      const channel = await google.colab.kernel.comms.open(id);\n",
              "      // Send a message to notify the kernel that we're ready.\n",
              "      channel.send({})\n",
              "\n",
              "      for await (const message of channel.messages) {\n",
              "        // Send a message to notify the kernel that we're ready.\n",
              "        channel.send({})\n",
              "        if (message.buffers) {\n",
              "          for (const buffer of message.buffers) {\n",
              "            buffers.push(buffer);\n",
              "            downloaded += buffer.byteLength;\n",
              "            progress.value = downloaded;\n",
              "          }\n",
              "        }\n",
              "      }\n",
              "      const blob = new Blob(buffers, {type: 'application/binary'});\n",
              "      const a = document.createElement('a');\n",
              "      a.href = window.URL.createObjectURL(blob);\n",
              "      a.download = filename;\n",
              "      div.appendChild(a);\n",
              "      a.click();\n",
              "      div.remove();\n",
              "    }\n",
              "  "
            ]
          },
          "metadata": {}
        },
        {
          "output_type": "display_data",
          "data": {
            "text/plain": [
              "<IPython.core.display.Javascript object>"
            ],
            "application/javascript": [
              "download(\"download_707ee5bc-f8c0-4559-8b6f-92554c9a7643\", \"quality_control_data.csv\", 139557)"
            ]
          },
          "metadata": {}
        }
      ]
    },
    {
      "cell_type": "code",
      "source": [
        "files.download('quality_standards.xlsx')\n"
      ],
      "metadata": {
        "colab": {
          "base_uri": "https://localhost:8080/",
          "height": 17
        },
        "id": "B1UStSE-OPl0",
        "outputId": "3d47a22f-54d4-4f20-d11e-b6adaa16ede9"
      },
      "execution_count": 7,
      "outputs": [
        {
          "output_type": "display_data",
          "data": {
            "text/plain": [
              "<IPython.core.display.Javascript object>"
            ],
            "application/javascript": [
              "\n",
              "    async function download(id, filename, size) {\n",
              "      if (!google.colab.kernel.accessAllowed) {\n",
              "        return;\n",
              "      }\n",
              "      const div = document.createElement('div');\n",
              "      const label = document.createElement('label');\n",
              "      label.textContent = `Downloading \"${filename}\": `;\n",
              "      div.appendChild(label);\n",
              "      const progress = document.createElement('progress');\n",
              "      progress.max = size;\n",
              "      div.appendChild(progress);\n",
              "      document.body.appendChild(div);\n",
              "\n",
              "      const buffers = [];\n",
              "      let downloaded = 0;\n",
              "\n",
              "      const channel = await google.colab.kernel.comms.open(id);\n",
              "      // Send a message to notify the kernel that we're ready.\n",
              "      channel.send({})\n",
              "\n",
              "      for await (const message of channel.messages) {\n",
              "        // Send a message to notify the kernel that we're ready.\n",
              "        channel.send({})\n",
              "        if (message.buffers) {\n",
              "          for (const buffer of message.buffers) {\n",
              "            buffers.push(buffer);\n",
              "            downloaded += buffer.byteLength;\n",
              "            progress.value = downloaded;\n",
              "          }\n",
              "        }\n",
              "      }\n",
              "      const blob = new Blob(buffers, {type: 'application/binary'});\n",
              "      const a = document.createElement('a');\n",
              "      a.href = window.URL.createObjectURL(blob);\n",
              "      a.download = filename;\n",
              "      div.appendChild(a);\n",
              "      a.click();\n",
              "      div.remove();\n",
              "    }\n",
              "  "
            ]
          },
          "metadata": {}
        },
        {
          "output_type": "display_data",
          "data": {
            "text/plain": [
              "<IPython.core.display.Javascript object>"
            ],
            "application/javascript": [
              "download(\"download_d2c1fe4c-8a1a-40f8-ab2f-2e389d7f3540\", \"quality_standards.xlsx\", 5507)"
            ]
          },
          "metadata": {}
        }
      ]
    },
    {
      "cell_type": "code",
      "source": [
        "files.download('customer_complaints.csv')"
      ],
      "metadata": {
        "colab": {
          "base_uri": "https://localhost:8080/",
          "height": 17
        },
        "id": "UTGM0dM2OPtH",
        "outputId": "8ae9c045-d40c-4d1a-d35f-e6daa04ce44f"
      },
      "execution_count": 8,
      "outputs": [
        {
          "output_type": "display_data",
          "data": {
            "text/plain": [
              "<IPython.core.display.Javascript object>"
            ],
            "application/javascript": [
              "\n",
              "    async function download(id, filename, size) {\n",
              "      if (!google.colab.kernel.accessAllowed) {\n",
              "        return;\n",
              "      }\n",
              "      const div = document.createElement('div');\n",
              "      const label = document.createElement('label');\n",
              "      label.textContent = `Downloading \"${filename}\": `;\n",
              "      div.appendChild(label);\n",
              "      const progress = document.createElement('progress');\n",
              "      progress.max = size;\n",
              "      div.appendChild(progress);\n",
              "      document.body.appendChild(div);\n",
              "\n",
              "      const buffers = [];\n",
              "      let downloaded = 0;\n",
              "\n",
              "      const channel = await google.colab.kernel.comms.open(id);\n",
              "      // Send a message to notify the kernel that we're ready.\n",
              "      channel.send({})\n",
              "\n",
              "      for await (const message of channel.messages) {\n",
              "        // Send a message to notify the kernel that we're ready.\n",
              "        channel.send({})\n",
              "        if (message.buffers) {\n",
              "          for (const buffer of message.buffers) {\n",
              "            buffers.push(buffer);\n",
              "            downloaded += buffer.byteLength;\n",
              "            progress.value = downloaded;\n",
              "          }\n",
              "        }\n",
              "      }\n",
              "      const blob = new Blob(buffers, {type: 'application/binary'});\n",
              "      const a = document.createElement('a');\n",
              "      a.href = window.URL.createObjectURL(blob);\n",
              "      a.download = filename;\n",
              "      div.appendChild(a);\n",
              "      a.click();\n",
              "      div.remove();\n",
              "    }\n",
              "  "
            ]
          },
          "metadata": {}
        },
        {
          "output_type": "display_data",
          "data": {
            "text/plain": [
              "<IPython.core.display.Javascript object>"
            ],
            "application/javascript": [
              "download(\"download_36bdb984-bbcf-4153-bff8-e22d62addecc\", \"customer_complaints.csv\", 47666)"
            ]
          },
          "metadata": {}
        }
      ]
    }
  ]
}